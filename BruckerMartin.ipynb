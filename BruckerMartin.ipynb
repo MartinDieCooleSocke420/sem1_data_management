{
 "cells": [
  {
   "cell_type": "markdown",
   "metadata": {},
   "source": [
    "# Data Management – Open Data Platforms\n",
    "\n",
    "Martin Johannes Brucker \n",
    "\n",
    "Matriculation number : 942815\n",
    "\n",
    "*Deadline:* 21.12.2023 at 23:59"
   ]
  },
  {
   "cell_type": "code",
   "execution_count": null,
   "metadata": {},
   "outputs": [],
   "source": []
  }
 ],
 "metadata": {
  "language_info": {
   "name": "python"
  }
 },
 "nbformat": 4,
 "nbformat_minor": 2
}
